{
 "cells": [
  {
   "cell_type": "code",
   "execution_count": 362,
   "id": "53dd42de",
   "metadata": {},
   "outputs": [
    {
     "name": "stdout",
     "output_type": "stream",
     "text": [
      "[*********************100%***********************]  1 of 1 completed\n"
     ]
    }
   ],
   "source": [
    "import math\n",
    "import pandas as pd\n",
    "import matplotlib.pyplot as plt\n",
    "import numpy as np\n",
    "import tensorflow as tf\n",
    "from keras.layers import Bidirectional, GRU, LSTM, Dense\n",
    "from keras.models import Sequential\n",
    "from keras.layers import Input, Dense, Conv1D, MaxPooling1D, Flatten\n",
    "from keras.models import Model\n",
    "from sklearn.metrics import mean_squared_error\n",
    "import yfinance as yf\n",
    "from datetime import date, timedelta, datetime\n",
    "from sklearn.preprocessing import MinMaxScaler\n",
    "from sklearn.metrics import r2_score\n",
    "import seaborn as sns # Visualization\n",
    "sns.set_style('white', { 'axes.spines.right': False, 'axes.spines.top': False})\n",
    "from pandas.plotting import register_matplotlib_converters # This function adds plotting functions for calender dates\n",
    "import matplotlib.dates as mdates # Formatting dates\n",
    "from sklearn.metrics import mean_absolute_error\n",
    "#\n",
    "Stock_symbol = 'TCEHY'\n",
    "#\n",
    "\n",
    "end_date =  date.today().strftime(\"%Y-%m-%d\")\n",
    "df = yf.download(Stock_symbol, start='2013-01-01', end = '2022-12-31')\n",
    "#df = pd.read_csv(\"APPLE.csv\")\n",
    "#\n",
    "parameter = 'Close'\n",
    "#\n"
   ]
  },
  {
   "cell_type": "code",
   "execution_count": 363,
   "id": "0f3acc7c",
   "metadata": {},
   "outputs": [
    {
     "name": "stdout",
     "output_type": "stream",
     "text": [
      "FEATURE LIST\n",
      "['High', 'Low', 'Open', 'Close', 'Volume']\n"
     ]
    },
    {
     "data": {
      "text/html": [
       "<div>\n",
       "<style scoped>\n",
       "    .dataframe tbody tr th:only-of-type {\n",
       "        vertical-align: middle;\n",
       "    }\n",
       "\n",
       "    .dataframe tbody tr th {\n",
       "        vertical-align: top;\n",
       "    }\n",
       "\n",
       "    .dataframe thead th {\n",
       "        text-align: right;\n",
       "    }\n",
       "</style>\n",
       "<table border=\"1\" class=\"dataframe\">\n",
       "  <thead>\n",
       "    <tr style=\"text-align: right;\">\n",
       "      <th></th>\n",
       "      <th>High</th>\n",
       "      <th>Low</th>\n",
       "      <th>Open</th>\n",
       "      <th>Close</th>\n",
       "      <th>Volume</th>\n",
       "    </tr>\n",
       "    <tr>\n",
       "      <th>Date</th>\n",
       "      <th></th>\n",
       "      <th></th>\n",
       "      <th></th>\n",
       "      <th></th>\n",
       "      <th></th>\n",
       "    </tr>\n",
       "  </thead>\n",
       "  <tbody>\n",
       "    <tr>\n",
       "      <th>2013-01-02 00:00:00-05:00</th>\n",
       "      <td>6.730</td>\n",
       "      <td>6.672</td>\n",
       "      <td>6.674</td>\n",
       "      <td>6.720</td>\n",
       "      <td>362500</td>\n",
       "    </tr>\n",
       "    <tr>\n",
       "      <th>2013-01-03 00:00:00-05:00</th>\n",
       "      <td>6.734</td>\n",
       "      <td>6.660</td>\n",
       "      <td>6.734</td>\n",
       "      <td>6.660</td>\n",
       "      <td>355000</td>\n",
       "    </tr>\n",
       "    <tr>\n",
       "      <th>2013-01-04 00:00:00-05:00</th>\n",
       "      <td>6.742</td>\n",
       "      <td>6.652</td>\n",
       "      <td>6.658</td>\n",
       "      <td>6.694</td>\n",
       "      <td>101000</td>\n",
       "    </tr>\n",
       "    <tr>\n",
       "      <th>2013-01-07 00:00:00-05:00</th>\n",
       "      <td>6.600</td>\n",
       "      <td>6.556</td>\n",
       "      <td>6.590</td>\n",
       "      <td>6.600</td>\n",
       "      <td>83000</td>\n",
       "    </tr>\n",
       "    <tr>\n",
       "      <th>2013-01-08 00:00:00-05:00</th>\n",
       "      <td>6.592</td>\n",
       "      <td>6.540</td>\n",
       "      <td>6.592</td>\n",
       "      <td>6.570</td>\n",
       "      <td>49000</td>\n",
       "    </tr>\n",
       "  </tbody>\n",
       "</table>\n",
       "</div>"
      ],
      "text/plain": [
       "                            High    Low   Open  Close  Volume\n",
       "Date                                                         \n",
       "2013-01-02 00:00:00-05:00  6.730  6.672  6.674  6.720  362500\n",
       "2013-01-03 00:00:00-05:00  6.734  6.660  6.734  6.660  355000\n",
       "2013-01-04 00:00:00-05:00  6.742  6.652  6.658  6.694  101000\n",
       "2013-01-07 00:00:00-05:00  6.600  6.556  6.590  6.600   83000\n",
       "2013-01-08 00:00:00-05:00  6.592  6.540  6.592  6.570   49000"
      ]
     },
     "execution_count": 363,
     "metadata": {},
     "output_type": "execute_result"
    }
   ],
   "source": [
    "\n",
    "train_df = df.sort_values(by=['Date']).copy()\n",
    "\n",
    "# List of considered Features\n",
    "FEATURES = ['High', 'Low', 'Open', 'Close', 'Volume']\n",
    "\n",
    "print('FEATURE LIST')\n",
    "print([f for f in FEATURES])\n",
    "\n",
    "# Create the dataset with features and filter the data to the list of FEATURES\n",
    "data = pd.DataFrame(train_df)\n",
    "data_filtered = data[FEATURES]\n",
    "\n",
    "# We add a prediction column and set dummy values to prepare the data for scaling\n",
    "data_filtered_ext = data_filtered.copy()\n",
    "data_filtered_ext['Prediction'] = data_filtered_ext[parameter]\n",
    "\n",
    "\n",
    "#data_filtered.tail()\n",
    "data_filtered.isna().sum().sum()\n",
    "data_filtered.head()"
   ]
  },
  {
   "cell_type": "code",
   "execution_count": 364,
   "id": "646afd0b",
   "metadata": {},
   "outputs": [
    {
     "name": "stdout",
     "output_type": "stream",
     "text": [
      "2518\n"
     ]
    },
    {
     "data": {
      "text/html": [
       "<div>\n",
       "<style scoped>\n",
       "    .dataframe tbody tr th:only-of-type {\n",
       "        vertical-align: middle;\n",
       "    }\n",
       "\n",
       "    .dataframe tbody tr th {\n",
       "        vertical-align: top;\n",
       "    }\n",
       "\n",
       "    .dataframe thead th {\n",
       "        text-align: right;\n",
       "    }\n",
       "</style>\n",
       "<table border=\"1\" class=\"dataframe\">\n",
       "  <thead>\n",
       "    <tr style=\"text-align: right;\">\n",
       "      <th></th>\n",
       "      <th>High</th>\n",
       "      <th>Low</th>\n",
       "      <th>Open</th>\n",
       "      <th>Close</th>\n",
       "      <th>Volume</th>\n",
       "    </tr>\n",
       "    <tr>\n",
       "      <th>Date</th>\n",
       "      <th></th>\n",
       "      <th></th>\n",
       "      <th></th>\n",
       "      <th></th>\n",
       "      <th></th>\n",
       "    </tr>\n",
       "  </thead>\n",
       "  <tbody>\n",
       "    <tr>\n",
       "      <th>2013-01-02 00:00:00-05:00</th>\n",
       "      <td>6.730</td>\n",
       "      <td>6.672</td>\n",
       "      <td>6.674</td>\n",
       "      <td>6.720</td>\n",
       "      <td>362500</td>\n",
       "    </tr>\n",
       "    <tr>\n",
       "      <th>2013-01-03 00:00:00-05:00</th>\n",
       "      <td>6.734</td>\n",
       "      <td>6.660</td>\n",
       "      <td>6.734</td>\n",
       "      <td>6.660</td>\n",
       "      <td>355000</td>\n",
       "    </tr>\n",
       "    <tr>\n",
       "      <th>2013-01-04 00:00:00-05:00</th>\n",
       "      <td>6.742</td>\n",
       "      <td>6.652</td>\n",
       "      <td>6.658</td>\n",
       "      <td>6.694</td>\n",
       "      <td>101000</td>\n",
       "    </tr>\n",
       "    <tr>\n",
       "      <th>2013-01-07 00:00:00-05:00</th>\n",
       "      <td>6.600</td>\n",
       "      <td>6.556</td>\n",
       "      <td>6.590</td>\n",
       "      <td>6.600</td>\n",
       "      <td>83000</td>\n",
       "    </tr>\n",
       "    <tr>\n",
       "      <th>2013-01-08 00:00:00-05:00</th>\n",
       "      <td>6.592</td>\n",
       "      <td>6.540</td>\n",
       "      <td>6.592</td>\n",
       "      <td>6.570</td>\n",
       "      <td>49000</td>\n",
       "    </tr>\n",
       "  </tbody>\n",
       "</table>\n",
       "</div>"
      ],
      "text/plain": [
       "                            High    Low   Open  Close  Volume\n",
       "Date                                                         \n",
       "2013-01-02 00:00:00-05:00  6.730  6.672  6.674  6.720  362500\n",
       "2013-01-03 00:00:00-05:00  6.734  6.660  6.734  6.660  355000\n",
       "2013-01-04 00:00:00-05:00  6.742  6.652  6.658  6.694  101000\n",
       "2013-01-07 00:00:00-05:00  6.600  6.556  6.590  6.600   83000\n",
       "2013-01-08 00:00:00-05:00  6.592  6.540  6.592  6.570   49000"
      ]
     },
     "execution_count": 364,
     "metadata": {},
     "output_type": "execute_result"
    }
   ],
   "source": [
    "from sklearn.preprocessing import MinMaxScaler\n",
    "# Get the number of rows in the data\n",
    "nrows = data_filtered.shape[0]\n",
    "print(nrows)\n",
    "# Convert the data to numpy values\n",
    "np_data_unscaled = np.array(data_filtered)\n",
    "np_data = np.reshape(np_data_unscaled, (nrows, -1))\n",
    "#print(np_data.shape)\n",
    "\n",
    "# Transform the data by scaling each feature to a range between 0 and 1\n",
    "scaler = MinMaxScaler()\n",
    "np_data_scaled = scaler.fit_transform(np_data_unscaled)\n",
    "\n",
    "# Creating a separate scaler that works on a single column for scaling predictions\n",
    "scaler_pred = MinMaxScaler()\n",
    "df_Close = pd.DataFrame(data_filtered_ext['Close'])\n",
    "np_Close_scaled = scaler_pred.fit_transform(df_Close)\n",
    "data_filtered.head()"
   ]
  },
  {
   "cell_type": "code",
   "execution_count": 365,
   "id": "14828157",
   "metadata": {},
   "outputs": [
    {
     "name": "stdout",
     "output_type": "stream",
     "text": [
      "(1965, 50, 5) (1965,)\n",
      "(503, 50, 5) (503,)\n",
      "(1958, 50, 5) (1958,)\n",
      "(496, 50, 5) (496,)\n",
      "0.010257402860333928\n",
      "0.010257402860333928\n",
      "2.1507557668609678e-05\n",
      "2.1507557668609678e-05\n"
     ]
    }
   ],
   "source": [
    "# Set the sequence length - this is the timeframe used to make a single prediction\n",
    "sequence_length = 50\n",
    "\n",
    "# Prediction Index\n",
    "prediction = \"Close\"\n",
    "index_Close = data.columns.get_loc(prediction)\n",
    "\n",
    "# Split the training data into train and train data sets\n",
    "# As a first step, we get the number of rows to train the model on 80% of the data \n",
    "train_data_len = math.ceil(np_data_scaled.shape[0] * 0.8)\n",
    "\n",
    "# Create the training and test data\n",
    "train_data = np_data_scaled[0:train_data_len, :]\n",
    "test_data = np_data_scaled[train_data_len - sequence_length:, :]\n",
    "\n",
    "# The RNN needs data with the format of [samples, time steps, features]\n",
    "# Here, we create N samples, sequence_length time steps per sample, and 6 features\n",
    "def partition_dataset(sequence_length, data):\n",
    "    x, y = [], []\n",
    "    data_len = data.shape[0]\n",
    "    for i in range(sequence_length, data_len):\n",
    "        x.append(data[i-sequence_length:i,:]) #contains sequence_length values 0-sequence_length * columsn\n",
    "        y.append(data[i, index_Close]) #contains the prediction values for validation,  for single-step prediction\n",
    "    \n",
    "    # Convert the x and y to numpy arrays\n",
    "    x = np.array(x)\n",
    "    y = np.array(y)\n",
    "    return x, y\n",
    "\n",
    "#Future prediction\n",
    "n=7\n",
    "#\n",
    "\n",
    "def partition_dataset_n(sequence_length, data):\n",
    "    x, y = [], []\n",
    "    data_len = data.shape[0]\n",
    "    for i in range(sequence_length, data_len-n):\n",
    "        x.append(data[i-sequence_length:i,:]) #contains sequence_length values 0-sequence_length * columsn\n",
    "        y.append(data[i+n-1, index_Close]) #contains the prediction values for validation,  for single-step prediction\n",
    "    \n",
    "    # Convert the x and y to numpy arrays\n",
    "    x = np.array(x)\n",
    "    y = np.array(y)\n",
    "    return x, y\n",
    "\n",
    "# Generate training data and test data\n",
    "X_train, Y_train = partition_dataset(sequence_length, train_data)\n",
    "X_test, Y_test = partition_dataset(sequence_length, test_data)\n",
    "\n",
    "X_train_n, Y_train_n = partition_dataset_n(sequence_length, train_data)\n",
    "X_test_n, Y_test_n = partition_dataset_n(sequence_length, test_data)\n",
    "\n",
    "# Print the shapes: the result is: (rows, training_sequence, features) (prediction value, )\n",
    "print(X_train.shape, Y_train.shape)\n",
    "print(X_test.shape, Y_test.shape)\n",
    "print(X_train_n.shape, Y_train_n.shape)\n",
    "print(X_test_n.shape, Y_test_n.shape)\n",
    "\n",
    "# Validate that the prediction value and the input match up\n",
    "# The last close price of the second input sample should equal the first prediction value\n",
    "print(X_train[1][sequence_length-1][index_Close])\n",
    "print(Y_train[0])\n",
    "print(X_train_n[n][sequence_length-1][index_Close])\n",
    "print(Y_train_n[0])"
   ]
  },
  {
   "cell_type": "code",
   "execution_count": 380,
   "id": "afea720d",
   "metadata": {},
   "outputs": [],
   "source": [
    "def LSTM_1():\n",
    "    Lstm_1 = Sequential()\n",
    "    Lstm_1.add(LSTM(64, return_sequences = True, input_shape = (X_train.shape[1],X_train.shape[2])))\n",
    "    Lstm_1.add(LSTM(64))\n",
    "    Lstm_1.add(Dense(1, activation = 'ReLU'))\n",
    "    Lstm_1.compile(loss = 'mean_squared_error', optimizer = 'Adam', metrics = ['mae'])\n",
    "    return Lstm_1"
   ]
  },
  {
   "cell_type": "code",
   "execution_count": 381,
   "id": "68fe118a",
   "metadata": {},
   "outputs": [],
   "source": [
    "def LSTM_2():\n",
    "    Lstm_2 = Sequential()\n",
    "    Lstm_2.add(LSTM(64, return_sequences = True, input_shape = (X_train.shape[1],X_train.shape[2])))\n",
    "    Lstm_2.add(LSTM(64, return_sequences = True))\n",
    "    Lstm_2.add(LSTM(64))\n",
    "    Lstm_2.add(Dense(1, activation = 'ReLU'))\n",
    "    Lstm_2.compile(loss = 'mean_squared_error', optimizer = 'Adam', metrics = ['mae'])\n",
    "    return Lstm_2"
   ]
  },
  {
   "cell_type": "code",
   "execution_count": 382,
   "id": "4b9fb469",
   "metadata": {},
   "outputs": [],
   "source": [
    "def Bi_1():\n",
    "    Bi_1 = Sequential()\n",
    "    Bi_1.add(Bidirectional(LSTM(64, return_sequences=True), input_shape = (X_train.shape[1],X_train.shape[2])))\n",
    "    Bi_1.add(Bidirectional(LSTM(64)))\n",
    "    Bi_1.add(Dense(1, activation = 'ReLU'))\n",
    "    Bi_1.compile(loss = 'mean_squared_error', optimizer = 'Adam', metrics=['mae'])\n",
    "    return Bi_1"
   ]
  },
  {
   "cell_type": "code",
   "execution_count": 383,
   "id": "759eebd5",
   "metadata": {},
   "outputs": [],
   "source": [
    "def Bi_2():\n",
    "    Bi_2 = Sequential()\n",
    "    Bi_2.add(Bidirectional(LSTM(64, return_sequences=True), input_shape = (X_train.shape[1],X_train.shape[2])))\n",
    "    Bi_2.add(Bidirectional(LSTM(64, return_sequences=True)))\n",
    "    Bi_2.add(Bidirectional(LSTM(64)))\n",
    "    Bi_2.add(Dense(1, activation = 'ReLU'))\n",
    "    Bi_2.compile(loss = 'mean_squared_error', optimizer = 'Adam', metrics=['mae'])\n",
    "    return Bi_2"
   ]
  },
  {
   "cell_type": "code",
   "execution_count": 384,
   "id": "18a61a3e",
   "metadata": {},
   "outputs": [],
   "source": [
    "def GRU_1():\n",
    "    GRU_1 = Sequential()\n",
    "    GRU_1.add(GRU(64, return_sequences=True, input_shape= (X_train.shape[1],X_train.shape[2])))\n",
    "    GRU_1.add(GRU(64, return_sequences=False))\n",
    "    GRU_1.add(Dense(1, activation='ReLU'))\n",
    "    GRU_1.compile(optimizer = 'adam', loss = 'mean_squared_error', metrics = ['mae'])\n",
    "    return GRU_1"
   ]
  },
  {
   "cell_type": "code",
   "execution_count": 385,
   "id": "6ae8ac51",
   "metadata": {},
   "outputs": [],
   "source": [
    "def GRU_2():\n",
    "    GRU_2 = Sequential()\n",
    "    GRU_2.add(GRU(64, return_sequences=True, input_shape= (X_train.shape[1],X_train.shape[2])))\n",
    "    GRU_2.add(GRU(64, return_sequences=True))\n",
    "    GRU_2.add(GRU(64, return_sequences=False))\n",
    "    GRU_2.add(Dense(1, activation='ReLU'))\n",
    "    GRU_2.compile(optimizer = 'adam', loss = 'mean_squared_error', metrics = ['mae'])\n",
    "    return GRU_2"
   ]
  },
  {
   "cell_type": "code",
   "execution_count": 386,
   "id": "94b52ede",
   "metadata": {},
   "outputs": [],
   "source": [
    "def Bi_GRU_1():\n",
    "    Bi_GRU_1 = Sequential()\n",
    "    Bi_GRU_1.add(Bidirectional(GRU(64, return_sequences=True), input_shape = (X_train.shape[1],X_train.shape[2])))\n",
    "    Bi_GRU_1.add(Bidirectional(GRU(64, return_sequences=False)))\n",
    "    Bi_GRU_1.add(Dense(1, activation = 'ReLU'))\n",
    "    Bi_GRU_1.compile(loss = 'mean_squared_error', optimizer = 'Adam', metrics=['mae'])\n",
    "    return Bi_GRU_1"
   ]
  },
  {
   "cell_type": "code",
   "execution_count": 387,
   "id": "425c1db7",
   "metadata": {},
   "outputs": [],
   "source": [
    "def Bi_GRU_2():\n",
    "    Bi_GRU_2 = Sequential()\n",
    "    Bi_GRU_2.add(Bidirectional(GRU(64, return_sequences=True), input_shape = (X_train.shape[1],X_train.shape[2])))\n",
    "    Bi_GRU_2.add(Bidirectional(GRU(64, return_sequences=True)))\n",
    "    Bi_GRU_2.add(Bidirectional(GRU(64)))\n",
    "    Bi_GRU_2.add(Dense(1, activation = 'ReLU'))\n",
    "    Bi_GRU_2.compile(loss = 'mean_squared_error', optimizer = 'Adam', metrics=['mae'])\n",
    "    return Bi_GRU_2"
   ]
  },
  {
   "cell_type": "code",
   "execution_count": 388,
   "id": "822bbdd6",
   "metadata": {},
   "outputs": [],
   "source": [
    "def CNN_1():\n",
    "    CNN_1 = Sequential()\n",
    "    CNN_1.add(Conv1D(64, kernel_size=3, activation='relu', input_shape= (X_train.shape[1],X_train.shape[2])))\n",
    "    CNN_1.add(MaxPooling1D(pool_size=2))\n",
    "    CNN_1.add(Conv1D(64, kernel_size=3, activation='relu'))\n",
    "    CNN_1.add(MaxPooling1D(pool_size=2))\n",
    "    CNN_1.add(Flatten())\n",
    "    CNN_1.add(Dense(1, activation='ReLU'))\n",
    "    CNN_1.compile(optimizer='adam', loss='mean_squared_error', metrics = ['mae'])\n",
    "    return CNN_1"
   ]
  },
  {
   "cell_type": "code",
   "execution_count": 389,
   "id": "f2e70a3c",
   "metadata": {},
   "outputs": [],
   "source": [
    "def CNN_2():\n",
    "    CNN_2 = Sequential()\n",
    "    CNN_2.add(Conv1D(64, kernel_size=3, activation='relu', input_shape= (X_train.shape[1],X_train.shape[2])))\n",
    "    CNN_2.add(MaxPooling1D(pool_size=2))\n",
    "    CNN_2.add(Conv1D(64, kernel_size=3, activation='relu'))\n",
    "    CNN_2.add(MaxPooling1D(pool_size=2))\n",
    "    CNN_2.add(Conv1D(64, kernel_size=3, activation='relu'))\n",
    "    CNN_2.add(MaxPooling1D(pool_size=2))\n",
    "    CNN_2.add(Flatten())\n",
    "    CNN_2.add(Dense(1, activation='ReLU'))\n",
    "    CNN_2.compile(optimizer='adam', loss='mean_squared_error', metrics = ['mae'])\n",
    "    return CNN_2"
   ]
  },
  {
   "cell_type": "code",
   "execution_count": 390,
   "id": "dccb8020",
   "metadata": {},
   "outputs": [
    {
     "name": "stdout",
     "output_type": "stream",
     "text": [
      "Choose The Symbol to Impliment the desire Model: \n",
      "LSTM 2 Layer - A\n",
      "LSTM 3 Layer - B\n",
      "Bidirectional LSTM 2 Layer- C\n",
      "Bidirectional LSTM 3 Layer - D\n",
      "GRU 2 Layer - E\n",
      "GRU 3 Layer - F\n",
      "Bidirectional GRU 2 Layer- G\n",
      "Bidirectional GRU 3 Layer- H\n",
      "CNN 2 Layer - I\n",
      "CNN 3 Layer - J\n"
     ]
    }
   ],
   "source": [
    "print(\"Choose The Symbol to Impliment the desire Model: \")\n",
    "print(\"LSTM 2 Layer - A\")\n",
    "print(\"LSTM 3 Layer - B\")\n",
    "print(\"Bidirectional LSTM 2 Layer- C\")\n",
    "print(\"Bidirectional LSTM 3 Layer - D\")\n",
    "print(\"GRU 2 Layer - E\")\n",
    "print(\"GRU 3 Layer - F\")\n",
    "print(\"Bidirectional GRU 2 Layer- G\")\n",
    "print(\"Bidirectional GRU 3 Layer- H\")\n",
    "print(\"CNN 2 Layer - I\")\n",
    "print(\"CNN 3 Layer - J\")"
   ]
  },
  {
   "cell_type": "code",
   "execution_count": 580,
   "id": "c8ca9d1c",
   "metadata": {},
   "outputs": [
    {
     "name": "stdout",
     "output_type": "stream",
     "text": [
      "Enter the symbol of the desired MODEL: j\n"
     ]
    }
   ],
   "source": [
    "MODEL = input('Enter the symbol of the desired MODEL: ').upper()"
   ]
  },
  {
   "cell_type": "code",
   "execution_count": 581,
   "id": "4befb35c",
   "metadata": {},
   "outputs": [
    {
     "name": "stdout",
     "output_type": "stream",
     "text": [
      "CNN 3 Layer\n"
     ]
    }
   ],
   "source": [
    "if MODEL == 'A':\n",
    "    model = LSTM_1()\n",
    "    print('LSTM 2 Layer')\n",
    "elif MODEL == 'B':\n",
    "    model = LSTM_2()\n",
    "    print('LSTM 3 Layer')\n",
    "elif MODEL == 'C':    \n",
    "    model = Bi_1()\n",
    "    print('BI-LSTM 2 Layer')\n",
    "elif MODEL == 'D':    \n",
    "    model = Bi_2()\n",
    "    print('BI-LSTM 3 Layer')\n",
    "elif MODEL == 'E':    \n",
    "    model = GRU_1()\n",
    "    print('GRU 2 Layer')\n",
    "elif MODEL == 'F':\n",
    "    model = GRU_2()\n",
    "    print('GRU 3 Layer')\n",
    "elif MODEL == 'G':\n",
    "    model = Bi_GRU_1()\n",
    "    print('Bi-GRU 2 Layer')\n",
    "elif MODEL == 'H':\n",
    "    model = Bi_GRU_2()\n",
    "    print('Bi-GRU 3 Layer')\n",
    "elif MODEL == 'I':    \n",
    "    model = CNN_1()\n",
    "    print('CNN 2 Layer')\n",
    "elif MODEL == 'J':\n",
    "    model = CNN_2()\n",
    "    print('CNN 3 Layer')\n",
    "else:\n",
    "    print('MODEL code is invalid or MODEL is not included in the system.')\n"
   ]
  },
  {
   "attachments": {},
   "cell_type": "markdown",
   "id": "fb163a12",
   "metadata": {},
   "source": [
    "# One Step Ahead"
   ]
  },
  {
   "cell_type": "code",
   "execution_count": null,
   "id": "d7f8c3a6",
   "metadata": {},
   "outputs": [],
   "source": [
    "sf = [2, 5, 6, 7, 8, 10, 14, 16, 17, 20]\n",
    "num_train = np.size(X_train, 0)\n",
    "num_valid = np.size(X_test, 0)\n",
    "print(X_train.shape)\n",
    "X_train   = X_train[:,:,sf]\n",
    "print(X_train.shape)\n",
    "Y_train   = Y_train.reshape(num_train)  # Solve bug\n",
    "X_test   = X_test[:,:,sf]\n",
    "Y_test   = Y_test.reshape(num_valid) "
   ]
  },
  {
   "cell_type": "code",
   "execution_count": 582,
   "id": "e93d6ef3",
   "metadata": {},
   "outputs": [
    {
     "name": "stdout",
     "output_type": "stream",
     "text": [
      "Epoch 1/25\n",
      "62/62 [==============================] - 1s 8ms/step - loss: 0.0046 - mae: 0.0411\n",
      "Epoch 2/25\n",
      "62/62 [==============================] - 1s 8ms/step - loss: 0.0011 - mae: 0.0235\n",
      "Epoch 3/25\n",
      "62/62 [==============================] - 1s 10ms/step - loss: 9.6065e-04 - mae: 0.0222\n",
      "Epoch 4/25\n",
      "62/62 [==============================] - 1s 10ms/step - loss: 7.8365e-04 - mae: 0.0200\n",
      "Epoch 5/25\n",
      "62/62 [==============================] - 0s 7ms/step - loss: 7.9452e-04 - mae: 0.0199\n",
      "Epoch 6/25\n",
      "62/62 [==============================] - 0s 7ms/step - loss: 6.8845e-04 - mae: 0.0185\n",
      "Epoch 7/25\n",
      "62/62 [==============================] - 1s 10ms/step - loss: 6.2699e-04 - mae: 0.0178\n",
      "Epoch 8/25\n",
      "62/62 [==============================] - 1s 8ms/step - loss: 5.3061e-04 - mae: 0.0163\n",
      "Epoch 9/25\n",
      "62/62 [==============================] - 0s 7ms/step - loss: 4.9042e-04 - mae: 0.0154\n",
      "Epoch 10/25\n",
      "62/62 [==============================] - 0s 7ms/step - loss: 4.7744e-04 - mae: 0.0154\n",
      "Epoch 11/25\n",
      "62/62 [==============================] - 1s 9ms/step - loss: 4.3903e-04 - mae: 0.0148\n",
      "Epoch 12/25\n",
      "62/62 [==============================] - 1s 9ms/step - loss: 4.2123e-04 - mae: 0.0146\n",
      "Epoch 13/25\n",
      "62/62 [==============================] - 1s 9ms/step - loss: 4.1946e-04 - mae: 0.0144\n",
      "Epoch 14/25\n",
      "62/62 [==============================] - 1s 10ms/step - loss: 4.0927e-04 - mae: 0.0142\n",
      "Epoch 15/25\n",
      "62/62 [==============================] - 1s 9ms/step - loss: 4.1274e-04 - mae: 0.0142\n",
      "Epoch 16/25\n",
      "62/62 [==============================] - 1s 10ms/step - loss: 3.8173e-04 - mae: 0.0137\n",
      "Epoch 17/25\n",
      "62/62 [==============================] - 0s 7ms/step - loss: 3.9270e-04 - mae: 0.0142\n",
      "Epoch 18/25\n",
      "62/62 [==============================] - 1s 10ms/step - loss: 4.1664e-04 - mae: 0.0144\n",
      "Epoch 19/25\n",
      "62/62 [==============================] - 1s 9ms/step - loss: 3.5310e-04 - mae: 0.0134\n",
      "Epoch 20/25\n",
      "62/62 [==============================] - 0s 8ms/step - loss: 3.1868e-04 - mae: 0.0126\n",
      "Epoch 21/25\n",
      "62/62 [==============================] - 0s 8ms/step - loss: 3.3023e-04 - mae: 0.0129\n",
      "Epoch 22/25\n",
      "62/62 [==============================] - 1s 10ms/step - loss: 3.8035e-04 - mae: 0.0141\n",
      "Epoch 23/25\n",
      "62/62 [==============================] - 1s 10ms/step - loss: 3.2390e-04 - mae: 0.0128\n",
      "Epoch 24/25\n",
      "62/62 [==============================] - 0s 7ms/step - loss: 3.3585e-04 - mae: 0.0128\n",
      "Epoch 25/25\n",
      "62/62 [==============================] - 1s 9ms/step - loss: 3.1265e-04 - mae: 0.0126\n"
     ]
    },
    {
     "data": {
      "text/plain": [
       "<keras.callbacks.History at 0x1b56f39a5f0>"
      ]
     },
     "execution_count": 582,
     "metadata": {},
     "output_type": "execute_result"
    }
   ],
   "source": [
    "model.fit(X_train, Y_train, epochs = 25, batch_size = 32, verbose = 1)"
   ]
  },
  {
   "cell_type": "code",
   "execution_count": 583,
   "id": "66f89d19",
   "metadata": {},
   "outputs": [
    {
     "name": "stdout",
     "output_type": "stream",
     "text": [
      "16/16 [==============================] - 0s 3ms/step\n"
     ]
    }
   ],
   "source": [
    "test_predict_1 = model.predict(X_test)"
   ]
  },
  {
   "cell_type": "code",
   "execution_count": 584,
   "id": "42a01863",
   "metadata": {},
   "outputs": [
    {
     "name": "stdout",
     "output_type": "stream",
     "text": [
      "Accuracy: 0.9063987514007253\n"
     ]
    }
   ],
   "source": [
    "from sklearn.metrics import r2_score\n",
    "accuracy_1 = r2_score(Y_test, test_predict_1)\n",
    "print('Accuracy:', accuracy_1)"
   ]
  },
  {
   "cell_type": "code",
   "execution_count": 585,
   "id": "8f246bfa",
   "metadata": {},
   "outputs": [
    {
     "name": "stdout",
     "output_type": "stream",
     "text": [
      "Mean Absolute Error: 0.04629547886741838\n"
     ]
    }
   ],
   "source": [
    "mae_1 = mean_absolute_error(Y_test, test_predict_1)\n",
    "print(\"Mean Absolute Error:\", mae_1)"
   ]
  },
  {
   "cell_type": "code",
   "execution_count": 586,
   "id": "919dd424",
   "metadata": {},
   "outputs": [
    {
     "name": "stdout",
     "output_type": "stream",
     "text": [
      "MSE: 0.0032796778516073835\n",
      "RMSE: 0.05726847170658026\n"
     ]
    }
   ],
   "source": [
    "mse_1 = mean_squared_error(Y_test ,test_predict_1)\n",
    "rmse_1 = np.sqrt(mse_1)\n",
    "print('MSE:', mse_1)\n",
    "print('RMSE:', rmse_1)"
   ]
  },
  {
   "cell_type": "code",
   "execution_count": 587,
   "id": "af023c7f",
   "metadata": {},
   "outputs": [],
   "source": [
    "y_pred_scaled = test_predict_1\n",
    "y_pred = scaler_pred.inverse_transform(y_pred_scaled)\n",
    "y_test_unscaled = scaler_pred.inverse_transform(Y_test.reshape(-1, 1))"
   ]
  },
  {
   "cell_type": "code",
   "execution_count": 588,
   "id": "f5e5a5c7",
   "metadata": {},
   "outputs": [
    {
     "name": "stdout",
     "output_type": "stream",
     "text": [
      "Mean Absolute Percentage Error (MAPE): 7.95 %\n"
     ]
    }
   ],
   "source": [
    "MAPE = np.mean((np.abs(np.subtract(y_test_unscaled, y_pred)/ y_test_unscaled))) * 100\n",
    "print(f'Mean Absolute Percentage Error (MAPE): {np.round(MAPE, 2)} %')"
   ]
  },
  {
   "cell_type": "code",
   "execution_count": 589,
   "id": "0bfcb9dc",
   "metadata": {},
   "outputs": [
    {
     "name": "stdout",
     "output_type": "stream",
     "text": [
      "Median Absolute Percentage Error (MDAPE): 6.61 %\n"
     ]
    }
   ],
   "source": [
    "MDAPE = np.median((np.abs(np.subtract(y_test_unscaled, y_pred)/ y_test_unscaled)) ) * 100\n",
    "print(f'Median Absolute Percentage Error (MDAPE): {np.round(MDAPE, 2)} %')"
   ]
  },
  {
   "cell_type": "code",
   "execution_count": 590,
   "id": "5b548724",
   "metadata": {},
   "outputs": [
    {
     "data": {
      "image/png": "[encoded data removed]",
      "text/plain": [
       "<Figure size 640x480 with 1 Axes>"
      ]
     },
     "metadata": {},
     "output_type": "display_data"
    }
   ],
   "source": [
    "#plt.title(\"LSTM 2 Layers for 1 Step Ahead\")\n",
    "plt.plot(y_test_unscaled, label='Actual Values')\n",
    "plt.plot(y_pred, label='Predictions')\n",
    "plt.legend()\n",
    "plt.show()"
   ]
  },
  {
   "cell_type": "code",
   "execution_count": 591,
   "id": "875ffa70",
   "metadata": {},
   "outputs": [],
   "source": [
    "# # The date from which on the date is displayed\n",
    "# display_start_date = \"2021-01-01\" \n",
    "\n",
    "# # Add the difference between the valid and predicted prices\n",
    "# train = pd.DataFrame(data_filtered_ext[parameter][:train_data_len + 1]).rename(columns={parameter: 'Y_train'})\n",
    "# valid = pd.DataFrame(data_filtered_ext[parameter][train_data_len:]).rename(columns={parameter: 'Y_test'})\n",
    "# valid.insert(1, \"y_pred\", y_pred, True)\n",
    "# valid.insert(1, \"residuals\", valid[\"y_pred\"] - valid[\"Y_test\"], True)\n",
    "# df_union = pd.concat([train, valid])\n",
    "\n",
    "# # Zoom in to a closer timeframe\n",
    "# df_union_zoom = df_union[df_union.index > display_start_date]\n",
    "\n",
    "# # Create the lineplot\n",
    "# fig, ax1 = plt.subplots(figsize=(16, 8))\n",
    "# plt.title(\"y_pred vs Y_test\")\n",
    "# plt.ylabel(Stock_symbol, fontsize=18)\n",
    "# sns.set_palette([\"#090364\", \"#1960EF\", \"#EF5919\"])\n",
    "# sns.lineplot(data=df_union_zoom[['y_pred', 'Y_train', 'Y_test']], linewidth=1.0, dashes=False, ax=ax1)\n",
    "\n",
    "# # Create the bar plot with the differences\n",
    "# df_sub = [\"#2BC97A\" if x > 0 else \"#C92B2B\" for x in df_union_zoom[\"residuals\"].dropna()]\n",
    "# ax1.bar(height=df_union_zoom['residuals'].dropna(), x=df_union_zoom['residuals'].dropna().index, width=3, label='residuals', color=df_sub)\n",
    "# plt.legend()\n",
    "# plt.show()"
   ]
  },
  {
   "attachments": {},
   "cell_type": "markdown",
   "id": "ddc61378",
   "metadata": {},
   "source": [
    "# Nth Step Ahead"
   ]
  },
  {
   "cell_type": "code",
   "execution_count": 592,
   "id": "bbafe228",
   "metadata": {},
   "outputs": [
    {
     "name": "stdout",
     "output_type": "stream",
     "text": [
      "Epoch 1/25\n",
      "62/62 [==============================] - 0s 8ms/step - loss: 5.6366e-04 - mae: 0.0165\n",
      "Epoch 2/25\n",
      "62/62 [==============================] - 1s 10ms/step - loss: 5.4822e-04 - mae: 0.0166\n",
      "Epoch 3/25\n",
      "62/62 [==============================] - 1s 11ms/step - loss: 7.4798e-04 - mae: 0.0193\n",
      "Epoch 4/25\n",
      "62/62 [==============================] - 1s 10ms/step - loss: 5.1982e-04 - mae: 0.0161\n",
      "Epoch 5/25\n",
      "62/62 [==============================] - 0s 6ms/step - loss: 4.9522e-04 - mae: 0.0158\n",
      "Epoch 6/25\n",
      "62/62 [==============================] - 0s 7ms/step - loss: 4.9043e-04 - mae: 0.0159\n",
      "Epoch 7/25\n",
      "62/62 [==============================] - 1s 9ms/step - loss: 4.8097e-04 - mae: 0.0154\n",
      "Epoch 8/25\n",
      "62/62 [==============================] - 1s 10ms/step - loss: 4.9479e-04 - mae: 0.0157\n",
      "Epoch 9/25\n",
      "62/62 [==============================] - 1s 9ms/step - loss: 5.1786e-04 - mae: 0.0160\n",
      "Epoch 10/25\n",
      "62/62 [==============================] - 1s 11ms/step - loss: 5.2292e-04 - mae: 0.0164\n",
      "Epoch 11/25\n",
      "62/62 [==============================] - 1s 13ms/step - loss: 4.6228e-04 - mae: 0.0154\n",
      "Epoch 12/25\n",
      "62/62 [==============================] - 1s 12ms/step - loss: 4.2672e-04 - mae: 0.0144\n",
      "Epoch 13/25\n",
      "62/62 [==============================] - 0s 8ms/step - loss: 4.7577e-04 - mae: 0.0155\n",
      "Epoch 14/25\n",
      "62/62 [==============================] - 1s 8ms/step - loss: 4.2051e-04 - mae: 0.0145\n",
      "Epoch 15/25\n",
      "62/62 [==============================] - 1s 9ms/step - loss: 6.0231e-04 - mae: 0.0174\n",
      "Epoch 16/25\n",
      "62/62 [==============================] - 1s 11ms/step - loss: 4.2297e-04 - mae: 0.0145\n",
      "Epoch 17/25\n",
      "62/62 [==============================] - 1s 13ms/step - loss: 4.5793e-04 - mae: 0.0152\n",
      "Epoch 18/25\n",
      "62/62 [==============================] - 1s 11ms/step - loss: 3.9953e-04 - mae: 0.0140\n",
      "Epoch 19/25\n",
      "62/62 [==============================] - 1s 10ms/step - loss: 4.3777e-04 - mae: 0.0150\n",
      "Epoch 20/25\n",
      "62/62 [==============================] - 1s 12ms/step - loss: 4.3687e-04 - mae: 0.0148\n",
      "Epoch 21/25\n",
      "62/62 [==============================] - 1s 9ms/step - loss: 5.9504e-04 - mae: 0.0173\n",
      "Epoch 22/25\n",
      "62/62 [==============================] - 0s 7ms/step - loss: 3.9984e-04 - mae: 0.0141\n",
      "Epoch 23/25\n",
      "62/62 [==============================] - 1s 12ms/step - loss: 4.0102e-04 - mae: 0.0142\n",
      "Epoch 24/25\n",
      "62/62 [==============================] - 1s 12ms/step - loss: 4.3603e-04 - mae: 0.0147\n",
      "Epoch 25/25\n",
      "62/62 [==============================] - 0s 8ms/step - loss: 3.5874e-04 - mae: 0.0134\n"
     ]
    },
    {
     "data": {
      "text/plain": [
       "<keras.callbacks.History at 0x1b56f2d2e60>"
      ]
     },
     "execution_count": 592,
     "metadata": {},
     "output_type": "execute_result"
    }
   ],
   "source": [
    "model.fit(X_train_n,Y_train_n, epochs = 25, batch_size = 32, verbose = 1)"
   ]
  },
  {
   "cell_type": "code",
   "execution_count": 593,
   "id": "d8677120",
   "metadata": {},
   "outputs": [
    {
     "name": "stdout",
     "output_type": "stream",
     "text": [
      "16/16 [==============================] - 0s 3ms/step\n"
     ]
    }
   ],
   "source": [
    "test_predict_n = model.predict(X_test_n)"
   ]
  },
  {
   "cell_type": "code",
   "execution_count": 594,
   "id": "75aa1309",
   "metadata": {},
   "outputs": [
    {
     "name": "stdout",
     "output_type": "stream",
     "text": [
      "Accuracy_2: 0.8583622378366913\n"
     ]
    }
   ],
   "source": [
    "accuracy_2 = r2_score(Y_test_n, test_predict_n)\n",
    "print('Accuracy_2:', accuracy_2)"
   ]
  },
  {
   "cell_type": "code",
   "execution_count": null,
   "id": "c1687c7c",
   "metadata": {},
   "outputs": [],
   "source": []
  },
  {
   "cell_type": "code",
   "execution_count": 595,
   "id": "60db15de",
   "metadata": {},
   "outputs": [
    {
     "name": "stdout",
     "output_type": "stream",
     "text": [
      "Mean Absolute Error: 0.0524402568286771\n"
     ]
    }
   ],
   "source": [
    "mae_2 = mean_absolute_error(Y_test_n, test_predict_n)\n",
    "print(\"Mean Absolute Error:\", mae_2)"
   ]
  },
  {
   "cell_type": "code",
   "execution_count": 596,
   "id": "448739ae",
   "metadata": {},
   "outputs": [
    {
     "name": "stdout",
     "output_type": "stream",
     "text": [
      "MSE: 0.004967479917970539\n",
      "RMSE: 0.07048035129006197\n"
     ]
    }
   ],
   "source": [
    "mse_2 = mean_squared_error(Y_test_n ,test_predict_n)\n",
    "rmse_2 = np.sqrt(mse_2)\n",
    "print('MSE:', mse_2)\n",
    "print('RMSE:', rmse_2)"
   ]
  },
  {
   "cell_type": "code",
   "execution_count": 597,
   "id": "3dc16651",
   "metadata": {},
   "outputs": [],
   "source": [
    "y_pred_scaled_n = test_predict_n\n",
    "y_pred_n = scaler_pred.inverse_transform(y_pred_scaled_n)\n",
    "y_test_unscaled_n = scaler_pred.inverse_transform(Y_test_n.reshape(-1, 1))"
   ]
  },
  {
   "cell_type": "code",
   "execution_count": 598,
   "id": "7f91ec3b",
   "metadata": {},
   "outputs": [
    {
     "name": "stdout",
     "output_type": "stream",
     "text": [
      "Mean Absolute Percentage Error (MAPE_2): 8.93 %\n"
     ]
    }
   ],
   "source": [
    "MAPE_2 = np.mean((np.abs(np.subtract(y_test_unscaled_n, y_pred_n)/ y_test_unscaled_n))) * 100\n",
    "print(f'Mean Absolute Percentage Error (MAPE_2): {np.round(MAPE_2, 2)} %')"
   ]
  },
  {
   "cell_type": "code",
   "execution_count": 599,
   "id": "08ffcc63",
   "metadata": {},
   "outputs": [
    {
     "name": "stdout",
     "output_type": "stream",
     "text": [
      "Median Absolute Percentage Error (MDAPE_2): 7.0 %\n"
     ]
    }
   ],
   "source": [
    "MDAPE_2 = np.median((np.abs(np.subtract(y_test_unscaled_n, y_pred_n)/ y_test_unscaled_n)) ) * 100\n",
    "print(f'Median Absolute Percentage Error (MDAPE_2): {np.round(MDAPE_2, 2)} %')"
   ]
  },
  {
   "cell_type": "code",
   "execution_count": 600,
   "id": "3a6231b1",
   "metadata": {},
   "outputs": [
    {
     "data": {
      "image/png": "[encoded data removed]",
      "text/plain": [
       "<Figure size 640x480 with 1 Axes>"
      ]
     },
     "metadata": {},
     "output_type": "display_data"
    }
   ],
   "source": [
    "plt.plot(y_test_unscaled_n, label='Actual Values')\n",
    "plt.plot(y_pred_n, label='Predictions')\n",
    "#plt.title(\"LSTM 2 Layers for 7 Step Ahead\")\n",
    "plt.legend()\n",
    "plt.show()"
   ]
  },
  {
   "cell_type": "code",
   "execution_count": 484,
   "id": "77266a26",
   "metadata": {},
   "outputs": [],
   "source": [
    "# # The date from which on the date is displayed\n",
    "# display_start_date = \"2021-01-01\" \n",
    "\n",
    "# # Add the difference between the valid and predicted prices\n",
    "# train = pd.DataFrame(data_filtered_ext[parameter][:train_data_len + 1]).rename(columns={parameter: 'Y_train_n'})\n",
    "# valid = pd.DataFrame(data_filtered_ext[parameter][train_data_len:-n]).rename(columns={parameter: 'Y_test_n'})\n",
    "# valid.insert(1, \"y_pred_n\", y_pred_n, True)\n",
    "# valid.insert(1, \"residuals\", valid[\"y_pred_n\"] - valid[\"Y_test_n\"], True)\n",
    "# df_union = pd.concat([train, valid])\n",
    "\n",
    "# # Zoom in to a closer timeframe\n",
    "# df_union_zoom = df_union[df_union.index > display_start_date]\n",
    "\n",
    "# # Create the lineplot\n",
    "# fig, ax1 = plt.subplots(figsize=(16, 8))\n",
    "# plt.title(\"y_pred vs Y_test\")\n",
    "# plt.ylabel(Stock_symbol, fontsize=18)\n",
    "# sns.set_palette([\"#090364\", \"#1960EF\", \"#EF5919\"])\n",
    "# sns.lineplot(data=df_union_zoom[['y_pred_n', 'Y_train_n', 'Y_test_n']], linewidth=1.0, dashes=False, ax=ax1)\n",
    "\n",
    "# # Create the bar plot with the differences\n",
    "# df_sub = [\"#2BC97A\" if x > 0 else \"#C92B2B\" for x in df_union_zoom[\"residuals\"].dropna()]\n",
    "# ax1.bar(height=df_union_zoom['residuals'].dropna(), x=df_union_zoom['residuals'].dropna().index, width=3, label='residuals', color=df_sub)\n",
    "# plt.legend()\n",
    "# plt.show()"
   ]
  },
  {
   "cell_type": "code",
   "execution_count": 100,
   "id": "905df941",
   "metadata": {},
   "outputs": [],
   "source": [
    "\n",
    "# df_temp = df[-sequence_length:]\n",
    "# new_df = df_temp.filter(FEATURES)\n",
    "\n",
    "# N = sequence_length\n",
    "\n",
    "# # Get the last N day closing price values and scale the data to be values between 0 and 1\n",
    "# last_N_days = new_df[-sequence_length:].values\n",
    "# last_N_days_scaled = scaler.transform(last_N_days)\n",
    "\n",
    "# # Create an empty list and Append past N days\n",
    "# X_test_new = []\n",
    "# X_test_new.append(last_N_days_scaled)\n",
    "\n",
    "# # Convert the X_test data set to a numpy array and reshape the data\n",
    "# pred_price_scaled = model.predict(np.array(X_test_new))\n",
    "# pred_price_unscaled = scaler_pred.inverse_transform(pred_price_scaled.reshape(-1, 1))\n",
    "\n",
    "# # Print last price and predicted price for the next day\n",
    "# price_today = np.round(new_df[parameter][-1], 2)\n",
    "# predicted_price = np.round(pred_price_unscaled.ravel()[0], 2)\n",
    "# change_percent = np.round(100 - (price_today * 100)/predicted_price, 2)\n",
    "\n",
    "# plus = '+'; minus = ''\n",
    "# print(f'The {parameter} price for {Stock_symbol} at {end_date} was {price_today}')\n",
    "# print(f'The predicted {parameter} price is {predicted_price} ({plus if change_percent > 0 else minus}{change_percent}%)')\n"
   ]
  }
 ],
 "metadata": {
  "kernelspec": {
   "display_name": "Python 3 (ipykernel)",
   "language": "python",
   "name": "python3"
  },
  "language_info": {
   "codemirror_mode": {
    "name": "ipython",
    "version": 3
   },
   "file_extension": ".py",
   "mimetype": "text/x-python",
   "name": "python",
   "nbconvert_exporter": "python",
   "pygments_lexer": "ipython3",
   "version": "3.10.6"
  }
 },
 "nbformat": 4,
 "nbformat_minor": 5
}
